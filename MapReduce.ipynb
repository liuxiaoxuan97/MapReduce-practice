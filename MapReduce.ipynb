{
 "cells": [
  {
   "cell_type": "code",
   "execution_count": 1,
   "metadata": {},
   "outputs": [],
   "source": [
    "import numpy as np\n",
    "import functools\n",
    "import time"
   ]
  },
  {
   "cell_type": "markdown",
   "metadata": {},
   "source": [
    "### simple example"
   ]
  },
  {
   "cell_type": "code",
   "execution_count": 2,
   "metadata": {},
   "outputs": [
    {
     "name": "stdout",
     "output_type": "stream",
     "text": [
      "python\n",
      "Wall time: 1 ms\n"
     ]
    }
   ],
   "source": [
    "def find_longest_str(list_of_str):\n",
    "    longest = None\n",
    "    longest_len = 0\n",
    "    for i in list_of_str:\n",
    "        if len(i)>longest_len:\n",
    "            longest_len=len(i)\n",
    "            longest = i\n",
    "    return longest\n",
    "\n",
    "list_of_str = ['python','stone','map','reduce','peter','cold']\n",
    "%time max_length = print(find_longest_str(list_of_str))"
   ]
  },
  {
   "cell_type": "markdown",
   "metadata": {},
   "source": [
    "### scale up to 100000 elements"
   ]
  },
  {
   "cell_type": "code",
   "execution_count": 3,
   "metadata": {},
   "outputs": [
    {
     "name": "stdout",
     "output_type": "stream",
     "text": [
      "python\n",
      "Wall time: 49 ms\n"
     ]
    }
   ],
   "source": [
    "%time max_length = print(find_longest_str(list_of_str*100000))"
   ]
  },
  {
   "cell_type": "markdown",
   "metadata": {},
   "source": [
    "### Optimize using map"
   ]
  },
  {
   "cell_type": "code",
   "execution_count": 8,
   "metadata": {},
   "outputs": [
    {
     "data": {
      "text/plain": [
       "('python', 6)"
      ]
     },
     "execution_count": 8,
     "metadata": {},
     "output_type": "execute_result"
    }
   ],
   "source": [
    "length_list = [len(s) for s in list_of_str]\n",
    "maps = zip(list_of_str,length_list)\n",
    "max_len = max(maps,key=lambda x: x[1])\n",
    "max_len"
   ]
  },
  {
   "cell_type": "markdown",
   "metadata": {},
   "source": [
    "### split into map and reduce\n",
    "\n",
    "###### step 1: map your list into a list of tuples entailing str and its length (or other numbers) using the mapper function\n",
    "###### step 2: use hte reducer function, goes over the tuples from strp one and applies it one by one, to aggregate the results from mapper step"
   ]
  },
  {
   "cell_type": "code",
   "execution_count": 13,
   "metadata": {},
   "outputs": [
    {
     "name": "stdout",
     "output_type": "stream",
     "text": [
      "Wall time: 0 ns\n",
      "('reduce', 6)\n"
     ]
    }
   ],
   "source": [
    "import functools\n",
    "mapper = len\n",
    "#reducer orperating on each element of mapped result\n",
    "def reducer(p,c):\n",
    "    if p[1]>c[1]:\n",
    "        return p\n",
    "    return c\n",
    "\n",
    "%time\n",
    "mapped = map(mapper,list_of_str)\n",
    "mapped = zip(list_of_str,mapped)\n",
    "reduced = functools.reduce(reducer, mapped)\n",
    "print(reduced)"
   ]
  },
  {
   "cell_type": "markdown",
   "metadata": {},
   "source": [
    "### Break into chunks before parallelization"
   ]
  },
  {
   "cell_type": "code",
   "execution_count": 20,
   "metadata": {},
   "outputs": [],
   "source": [
    "def chunkify(seq, num):\n",
    "    avg = len(seq) / float(num)\n",
    "    out = []\n",
    "    last = 0.0\n",
    "\n",
    "    while last < len(seq):\n",
    "        out.append(seq[int(last):int(last + avg)])\n",
    "        last += avg\n",
    "\n",
    "    return out\n"
   ]
  },
  {
   "cell_type": "code",
   "execution_count": 26,
   "metadata": {},
   "outputs": [
    {
     "name": "stdout",
     "output_type": "stream",
     "text": [
      "('reduce', 6)\n"
     ]
    }
   ],
   "source": [
    "data_chunks = chunkify(list_of_str, num=2)\n",
    "#step 1:\n",
    "from functools import reduce\n",
    "reduced_all = []\n",
    "for chunk in data_chunks:\n",
    "    mapped_chunk = map(mapper, chunk)\n",
    "    mapped_chunk = zip(chunk, mapped_chunk)\n",
    "    \n",
    "    reduced_chunk = functools.reduce(reducer, mapped_chunk)\n",
    "    reduced_all.append(reduced_chunk)\n",
    "    \n",
    "#step 2:\n",
    "reduced = reduce(reducer, reduced_all)\n",
    "print(reduced)\n"
   ]
  },
  {
   "cell_type": "markdown",
   "metadata": {},
   "source": [
    "#### parallel"
   ]
  },
  {
   "cell_type": "code",
   "execution_count": 27,
   "metadata": {},
   "outputs": [
    {
     "name": "stdout",
     "output_type": "stream",
     "text": [
      "('reduce', 6)\n"
     ]
    }
   ],
   "source": [
    "def chunks_mapper(chunk):\n",
    "    mapped_chunk = map(mapper,chunk)\n",
    "    mapped_chunk = zip(chunk,mapped_chunk)\n",
    "    return reduce(reducer,mapped_chunk)\n",
    "data_chunks = chunkify(list_of_str*1000,num=30)\n",
    "mapped = map(chunks_mapper,data_chunks)\n",
    "reduced = reduce(reducer,mapped)\n",
    "print(reduced)"
   ]
  },
  {
   "cell_type": "markdown",
   "metadata": {},
   "source": [
    "#### parallel --> multiprocessing"
   ]
  },
  {
   "cell_type": "code",
   "execution_count": null,
   "metadata": {},
   "outputs": [],
   "source": [
    "#from multiprocessing import Pool\n",
    "#mapper = len\n",
    "#pool = Pool(8)\n",
    "#data_chunks = chunkify(list_of_str*1000, num = 8)\n",
    "#mapped = pool.map(chunks_mapper,data_chunks)\n",
    "#reduced = reduce(reducer, mapped)\n",
    "#print(reduced)\n",
    "#print(mapped)"
   ]
  },
  {
   "cell_type": "markdown",
   "metadata": {},
   "source": [
    "## word count"
   ]
  },
  {
   "cell_type": "code",
   "execution_count": 7,
   "metadata": {},
   "outputs": [],
   "source": [
    "from sklearn.datasets import fetch_20newsgroups\n",
    "data = 'pythoh is a nice program, I like it '"
   ]
  },
  {
   "cell_type": "markdown",
   "metadata": {},
   "source": [
    "For each text in the dataset, we want to tokenize it, clean it, remove stop words and finally count the words:"
   ]
  },
  {
   "cell_type": "code",
   "execution_count": 14,
   "metadata": {},
   "outputs": [],
   "source": [
    "from collections import Counter\n",
    "import re\n",
    "def clean_word(word):\n",
    "    return re.sub(r'[^\\w\\s]','',word).lower()\n",
    "\n",
    "def word_not_in_stopwords(word):\n",
    "    return word not in ['a'] and word and word.isalpha()\n",
    "\n",
    "def find_top_words(data):\n",
    "    cnt=Counter()\n",
    "    for text in data:\n",
    "        tokens_in_text = text.split()\n",
    "        tokens_in_text = map(clean_word, tokens_in_text)\n",
    "        tokens_in_text = filter(word_not_in_stopwords,tokens_in_text)\n",
    "        cnt.update(tokens_in_text)\n",
    "    return cnt.most_common(10)"
   ]
  },
  {
   "cell_type": "code",
   "execution_count": 15,
   "metadata": {},
   "outputs": [
    {
     "name": "stdout",
     "output_type": "stream",
     "text": [
      "Wall time: 0 ns\n"
     ]
    },
    {
     "data": {
      "text/plain": [
       "[('i', 5),\n",
       " ('p', 2),\n",
       " ('t', 2),\n",
       " ('h', 2),\n",
       " ('o', 2),\n",
       " ('e', 2),\n",
       " ('r', 2),\n",
       " ('y', 1),\n",
       " ('s', 1),\n",
       " ('n', 1)]"
      ]
     },
     "execution_count": 15,
     "metadata": {},
     "output_type": "execute_result"
    }
   ],
   "source": [
    "%time find_top_words(data)"
   ]
  },
  {
   "cell_type": "code",
   "execution_count": 16,
   "metadata": {},
   "outputs": [],
   "source": [
    "def mapper(text):\n",
    "    tokens_in_text = text.split()\n",
    "    tokens_in_text = map(clean_word, tokens_in_text)\n",
    "    tokens_in_text = filter(word_not_in_stopwords, tokens_in_text)\n",
    "    return Counter(tokens_in_text)\n",
    "def reducer(cnt1, cnt2):\n",
    "    cnt1.update(cnt2)\n",
    "    return cnt1\n",
    "def chunk_mapper(chunk):\n",
    "    mapped = map(mapper, chunk)\n",
    "    reduced = reduce(reducer, mapped)\n",
    "    return reduced"
   ]
  },
  {
   "cell_type": "code",
   "execution_count": null,
   "metadata": {},
   "outputs": [],
   "source": []
  },
  {
   "cell_type": "code",
   "execution_count": null,
   "metadata": {},
   "outputs": [],
   "source": []
  },
  {
   "cell_type": "code",
   "execution_count": null,
   "metadata": {},
   "outputs": [],
   "source": []
  },
  {
   "cell_type": "code",
   "execution_count": null,
   "metadata": {},
   "outputs": [],
   "source": []
  },
  {
   "cell_type": "code",
   "execution_count": null,
   "metadata": {},
   "outputs": [],
   "source": []
  }
 ],
 "metadata": {
  "kernelspec": {
   "display_name": "Python 3",
   "language": "python",
   "name": "python3"
  },
  "language_info": {
   "codemirror_mode": {
    "name": "ipython",
    "version": 3
   },
   "file_extension": ".py",
   "mimetype": "text/x-python",
   "name": "python",
   "nbconvert_exporter": "python",
   "pygments_lexer": "ipython3",
   "version": "3.7.6"
  }
 },
 "nbformat": 4,
 "nbformat_minor": 2
}
